{
 "cells": [
  {
   "cell_type": "code",
   "execution_count": 6,
   "metadata": {},
   "outputs": [],
   "source": [
    "import numpy as np\n",
    "import matplotlib.pyplot as plt\n",
    "import matplotlib\n",
    "\n",
    "from base.Case import Case\n",
    "import base.Train as Train"
   ]
  },
  {
   "cell_type": "code",
   "execution_count": 7,
   "metadata": {},
   "outputs": [],
   "source": [
    "case_filepath = 'cases/lorenz.case'\n",
    "esn_type = 'normal'\n",
    "case = Case.load(case_filepath, esn_type)\n",
    "\n",
    "if esn_type == 'hybrid':\n",
    "    case.esn.set_physics_numerics(case.ds.integrator, case.ds.dt, case.ds.norm, case.ds.system.convert_data_form)\n",
    "\n",
    "N_valid = 500\n",
    "N_used_in_training = case.N_skip + case.N_train + N_valid\n",
    "N_not_used = len(case.ds.u) - (N_used_in_training+1)\n",
    "\n",
    "ts_skip, ts_test = Train.split_timeseries(case.ds.u[-N_not_used:], split_lengths=[case.N_skip], overlap=[1], rest=True)"
   ]
  },
  {
   "cell_type": "code",
   "execution_count": 10,
   "metadata": {},
   "outputs": [
    {
     "name": "stdout",
     "output_type": "stream",
     "text": [
      "210 ms ± 7.19 ms per loop (mean ± std. dev. of 7 runs, 3 loops each)\n"
     ]
    }
   ],
   "source": [
    "%%timeit -n3\n",
    "\n",
    "Xa_skip, _ = case.esn.open_loop(ts_skip, np.zeros(case.esn.xa_dim))\n",
    "Yh_normal, _ = case.esn.closed_loop(len(ts_test), Xa_skip[-1], case.Wout)"
   ]
  },
  {
   "cell_type": "code",
   "execution_count": null,
   "metadata": {},
   "outputs": [],
   "source": [
    "Xa_skip, _ = case.esn.open_loop(ts_skip, np.zeros(case.esn.xa_dim))\n",
    "Yh_normal, _ = case.esn.closed_loop(len(ts_test), Xa_skip[-1], case.Wout)"
   ]
  },
  {
   "cell_type": "code",
   "execution_count": 4,
   "metadata": {},
   "outputs": [],
   "source": [
    "case_filepath = 'cases/lorenz_hybrid.case'\n",
    "esn_type = 'hybrid'\n",
    "case = Case.load(case_filepath, esn_type)\n",
    "\n",
    "if esn_type == 'hybrid':\n",
    "    case.esn.set_physics_numerics(case.ds.integrator, case.ds.dt, case.ds.norm, case.ds.system.convert_data_form)\n",
    "\n",
    "Xa_skip, _ = case.esn.open_loop(ts_skip, np.zeros(case.esn.xa_dim))\n",
    "Yh_hybrid, _ = case.esn.closed_loop(len(ts_test), Xa_skip[-1], case.Wout)"
   ]
  },
  {
   "cell_type": "code",
   "execution_count": 5,
   "metadata": {},
   "outputs": [
    {
     "ename": "NameError",
     "evalue": "name 'Yh_normal' is not defined",
     "output_type": "error",
     "traceback": [
      "\u001b[0;31m---------------------------------------------------------------------------\u001b[0m",
      "\u001b[0;31mNameError\u001b[0m                                 Traceback (most recent call last)",
      "\u001b[0;32m<ipython-input-5-95d16a9b9e16>\u001b[0m in \u001b[0;36m<module>\u001b[0;34m\u001b[0m\n\u001b[0;32m----> 1\u001b[0;31m \u001b[0;32mfor\u001b[0m \u001b[0mts\u001b[0m \u001b[0;32min\u001b[0m \u001b[0;34m[\u001b[0m\u001b[0mts_test\u001b[0m\u001b[0;34m,\u001b[0m \u001b[0mYh_normal\u001b[0m\u001b[0;34m,\u001b[0m \u001b[0mYh_hybrid\u001b[0m\u001b[0;34m]\u001b[0m\u001b[0;34m:\u001b[0m\u001b[0;34m\u001b[0m\u001b[0;34m\u001b[0m\u001b[0m\n\u001b[0m\u001b[1;32m      2\u001b[0m     \u001b[0mprint\u001b[0m\u001b[0;34m(\u001b[0m\u001b[0mlen\u001b[0m\u001b[0;34m(\u001b[0m\u001b[0mts\u001b[0m\u001b[0;34m)\u001b[0m\u001b[0;34m)\u001b[0m\u001b[0;34m\u001b[0m\u001b[0;34m\u001b[0m\u001b[0m\n\u001b[1;32m      3\u001b[0m     \u001b[0mplt\u001b[0m\u001b[0;34m.\u001b[0m\u001b[0mplot\u001b[0m\u001b[0;34m(\u001b[0m\u001b[0mts\u001b[0m\u001b[0;34m[\u001b[0m\u001b[0;34m:\u001b[0m\u001b[0;36m1000\u001b[0m\u001b[0;34m,\u001b[0m\u001b[0;36m0\u001b[0m\u001b[0;34m]\u001b[0m\u001b[0;34m)\u001b[0m\u001b[0;34m\u001b[0m\u001b[0;34m\u001b[0m\u001b[0m\n",
      "\u001b[0;31mNameError\u001b[0m: name 'Yh_normal' is not defined"
     ]
    }
   ],
   "source": [
    "for ts in [ts_test, Yh_normal, Yh_hybrid]:\n",
    "    print(len(ts))\n",
    "    plt.plot(ts[:1000,0])"
   ]
  },
  {
   "cell_type": "code",
   "execution_count": null,
   "metadata": {},
   "outputs": [],
   "source": [
    "fig, ax = plt.subplots()\n",
    "\n",
    "n = 5000\n",
    "timeseries = [Yh_normal[1:], Yh_hybrid[1:]]\n",
    "labels = ['ESN', 'hESN']\n",
    "T = np.arange(ts_test.shape[0])*0.01\n",
    "\n",
    "for ts, lbl in zip(timeseries, labels):\n",
    "    ts = case.ds.denormalize(ts)\n",
    "    delta = ts - case.ds.denormalize(ts_test)\n",
    "    MSE = np.sqrt(np.sum(delta**2, axis=1))\n",
    "    denominator = np.sqrt(np.mean(np.sum(ts**2, axis=1), axis=0))\n",
    "    NRMSE = MSE/denominator\n",
    "    plt.plot(T[:n], NRMSE[:n], label=lbl, lw=2)\n",
    "\n",
    "ax.legend()\n",
    "ax.set_xlabel('$t$')\n",
    "ax.set_ylabel('NRMSE')\n",
    "ax.tick_params(direction='in')\n",
    "\n",
    "# plt.savefig('images/NRMSE.pdf')"
   ]
  },
  {
   "cell_type": "markdown",
   "metadata": {},
   "source": [
    "## 2D joint PDF"
   ]
  },
  {
   "cell_type": "code",
   "execution_count": null,
   "metadata": {},
   "outputs": [],
   "source": [
    "import seaborn as sns\n",
    "sns.reset_orig()\n",
    "\n",
    "colors = plt.rcParams['axes.prop_cycle'].by_key()['color']\n",
    "nrows = 3\n",
    "ncols = 3\n",
    "\n",
    "fig = plt.figure(figsize=(6.4,4.8*1.5))\n",
    "\n",
    "ax1 = fig.add_subplot(nrows, ncols, 1)\n",
    "axs = np.array([ax1] + [fig.add_subplot(nrows, ncols, i, sharex=ax1, sharey=ax1) \\\n",
    "                            for i in range(2, nrows*ncols+1)]).reshape((nrows, ncols))\n",
    "\n",
    "if axs.ndim == 1:\n",
    "    axs = axs.reshape(nrows, ncols)\n",
    "\n",
    "fill = True\n",
    "\n",
    "variables = 'xyz'\n",
    "pairs = [(0,1), (0,2), (1,2)]\n",
    "cols = ['data', 'normal', 'hybrid']\n",
    "\n",
    "for i in range(nrows):\n",
    "    for j, ts in enumerate([ts_test, Yh_normal, Yh_hybrid]):\n",
    "        ax = axs[i,j]\n",
    "        ts = case.ds.denormalize(ts)\n",
    "        a,b = pairs[i]\n",
    "        sns.kdeplot(x=ts[:,a],\n",
    "                    y=ts[:,b],\n",
    "                    fill=fill,\n",
    "                    color=colors[j],\n",
    "                    ax=ax,\n",
    "                    cut=1,\n",
    "                    label=cols[j])\n",
    "        \n",
    "        if j == 0:\n",
    "            ax.set_ylabel('${}$'.format(variables[b]))\n",
    "        else:\n",
    "            plt.setp(ax.get_yticklabels(), visible=False)\n",
    "        \n",
    "        if i == nrows-1:\n",
    "            pass\n",
    "        else:\n",
    "            plt.setp(ax.get_xticklabels(), visible=False)\n",
    "        \n",
    "        if i == 0:\n",
    "            ax.legend(frameon=False)\n",
    "        \n",
    "        ax.set_xlabel('${}$'.format(variables[a]))\n",
    "        ax.tick_params(which='both', direction='in')\n",
    "    \n",
    "# plt.savefig('images/joint_distribution.pdf')"
   ]
  },
  {
   "cell_type": "code",
   "execution_count": null,
   "metadata": {},
   "outputs": [],
   "source": []
  }
 ],
 "metadata": {
  "interpreter": {
   "hash": "31f2aee4e71d21fbe5cf8b01ff0e069b9275f58929596ceb00d14d90e3e16cd6"
  },
  "kernelspec": {
   "display_name": "Python 3",
   "language": "python",
   "name": "python3"
  },
  "language_info": {
   "codemirror_mode": {
    "name": "ipython",
    "version": 3
   },
   "file_extension": ".py",
   "mimetype": "text/x-python",
   "name": "python",
   "nbconvert_exporter": "python",
   "pygments_lexer": "ipython3",
   "version": "3.8.10"
  }
 },
 "nbformat": 4,
 "nbformat_minor": 4
}
